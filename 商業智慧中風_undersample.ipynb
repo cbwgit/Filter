{
  "nbformat": 4,
  "nbformat_minor": 0,
  "metadata": {
    "kernelspec": {
      "display_name": "Python 3",
      "language": "python",
      "name": "python3"
    },
    "language_info": {
      "codemirror_mode": {
        "name": "ipython",
        "version": 3
      },
      "file_extension": ".py",
      "mimetype": "text/x-python",
      "name": "python",
      "nbconvert_exporter": "python",
      "pygments_lexer": "ipython3",
      "version": "3.7.6"
    },
    "colab": {
      "name": "「商業智慧中風_0605_2200_undersample",
      "provenance": [],
      "collapsed_sections": []
    }
  },
  "cells": [
    {
      "cell_type": "code",
      "metadata": {
        "id": "WH8vWtWqxUJf",
        "colab": {
          "base_uri": "https://localhost:8080/"
        },
        "outputId": "4bf66004-a4b6-4633-dc58-d6a224aed2da"
      },
      "source": [
        "from google.colab import drive\n",
        "drive.mount('/content/drive', force_remount=True)\n",
        "import pandas as pd\n",
        "corpus_root = 'drive/MyDrive/Colab Notebooks/datasets/bi/bidataset/' "
      ],
      "execution_count": null,
      "outputs": [
        {
          "output_type": "stream",
          "text": [
            "Mounted at /content/drive\n"
          ],
          "name": "stdout"
        }
      ]
    },
    {
      "cell_type": "code",
      "metadata": {
        "id": "0H9eZL1TvnZ-",
        "colab": {
          "base_uri": "https://localhost:8080/",
          "height": 204
        },
        "outputId": "532e97f1-12ee-4660-cdd2-ebbe99618250"
      },
      "source": [
        "# read \n",
        "df_train = pd.read_csv(corpus_root +'healthcare-dataset-stroke-data.csv')\n",
        "df_train.head()"
      ],
      "execution_count": null,
      "outputs": [
        {
          "output_type": "execute_result",
          "data": {
            "text/html": [
              "<div>\n",
              "<style scoped>\n",
              "    .dataframe tbody tr th:only-of-type {\n",
              "        vertical-align: middle;\n",
              "    }\n",
              "\n",
              "    .dataframe tbody tr th {\n",
              "        vertical-align: top;\n",
              "    }\n",
              "\n",
              "    .dataframe thead th {\n",
              "        text-align: right;\n",
              "    }\n",
              "</style>\n",
              "<table border=\"1\" class=\"dataframe\">\n",
              "  <thead>\n",
              "    <tr style=\"text-align: right;\">\n",
              "      <th></th>\n",
              "      <th>id</th>\n",
              "      <th>gender</th>\n",
              "      <th>age</th>\n",
              "      <th>hypertension</th>\n",
              "      <th>heart_disease</th>\n",
              "      <th>ever_married</th>\n",
              "      <th>work_type</th>\n",
              "      <th>Residence_type</th>\n",
              "      <th>avg_glucose_level</th>\n",
              "      <th>bmi</th>\n",
              "      <th>smoking_status</th>\n",
              "      <th>stroke</th>\n",
              "    </tr>\n",
              "  </thead>\n",
              "  <tbody>\n",
              "    <tr>\n",
              "      <th>0</th>\n",
              "      <td>9046</td>\n",
              "      <td>Male</td>\n",
              "      <td>67.0</td>\n",
              "      <td>0</td>\n",
              "      <td>1</td>\n",
              "      <td>Yes</td>\n",
              "      <td>Private</td>\n",
              "      <td>Urban</td>\n",
              "      <td>228.69</td>\n",
              "      <td>36.6</td>\n",
              "      <td>formerly smoked</td>\n",
              "      <td>1</td>\n",
              "    </tr>\n",
              "    <tr>\n",
              "      <th>1</th>\n",
              "      <td>51676</td>\n",
              "      <td>Female</td>\n",
              "      <td>61.0</td>\n",
              "      <td>0</td>\n",
              "      <td>0</td>\n",
              "      <td>Yes</td>\n",
              "      <td>Self-employed</td>\n",
              "      <td>Rural</td>\n",
              "      <td>202.21</td>\n",
              "      <td>NaN</td>\n",
              "      <td>never smoked</td>\n",
              "      <td>1</td>\n",
              "    </tr>\n",
              "    <tr>\n",
              "      <th>2</th>\n",
              "      <td>31112</td>\n",
              "      <td>Male</td>\n",
              "      <td>80.0</td>\n",
              "      <td>0</td>\n",
              "      <td>1</td>\n",
              "      <td>Yes</td>\n",
              "      <td>Private</td>\n",
              "      <td>Rural</td>\n",
              "      <td>105.92</td>\n",
              "      <td>32.5</td>\n",
              "      <td>never smoked</td>\n",
              "      <td>1</td>\n",
              "    </tr>\n",
              "    <tr>\n",
              "      <th>3</th>\n",
              "      <td>60182</td>\n",
              "      <td>Female</td>\n",
              "      <td>49.0</td>\n",
              "      <td>0</td>\n",
              "      <td>0</td>\n",
              "      <td>Yes</td>\n",
              "      <td>Private</td>\n",
              "      <td>Urban</td>\n",
              "      <td>171.23</td>\n",
              "      <td>34.4</td>\n",
              "      <td>smokes</td>\n",
              "      <td>1</td>\n",
              "    </tr>\n",
              "    <tr>\n",
              "      <th>4</th>\n",
              "      <td>1665</td>\n",
              "      <td>Female</td>\n",
              "      <td>79.0</td>\n",
              "      <td>1</td>\n",
              "      <td>0</td>\n",
              "      <td>Yes</td>\n",
              "      <td>Self-employed</td>\n",
              "      <td>Rural</td>\n",
              "      <td>174.12</td>\n",
              "      <td>24.0</td>\n",
              "      <td>never smoked</td>\n",
              "      <td>1</td>\n",
              "    </tr>\n",
              "  </tbody>\n",
              "</table>\n",
              "</div>"
            ],
            "text/plain": [
              "      id  gender   age  hypertension  heart_disease ever_married  \\\n",
              "0   9046    Male  67.0             0              1          Yes   \n",
              "1  51676  Female  61.0             0              0          Yes   \n",
              "2  31112    Male  80.0             0              1          Yes   \n",
              "3  60182  Female  49.0             0              0          Yes   \n",
              "4   1665  Female  79.0             1              0          Yes   \n",
              "\n",
              "       work_type Residence_type  avg_glucose_level   bmi   smoking_status  \\\n",
              "0        Private          Urban             228.69  36.6  formerly smoked   \n",
              "1  Self-employed          Rural             202.21   NaN     never smoked   \n",
              "2        Private          Rural             105.92  32.5     never smoked   \n",
              "3        Private          Urban             171.23  34.4           smokes   \n",
              "4  Self-employed          Rural             174.12  24.0     never smoked   \n",
              "\n",
              "   stroke  \n",
              "0       1  \n",
              "1       1  \n",
              "2       1  \n",
              "3       1  \n",
              "4       1  "
            ]
          },
          "metadata": {
            "tags": []
          },
          "execution_count": 119
        }
      ]
    },
    {
      "cell_type": "code",
      "metadata": {
        "colab": {
          "base_uri": "https://localhost:8080/"
        },
        "id": "rE78vNG11jxU",
        "outputId": "04341c93-f95e-4de8-f520-9d906dec48aa"
      },
      "source": [
        "df_train.dtypes"
      ],
      "execution_count": null,
      "outputs": [
        {
          "output_type": "execute_result",
          "data": {
            "text/plain": [
              "id                     int64\n",
              "gender                object\n",
              "age                  float64\n",
              "hypertension           int64\n",
              "heart_disease          int64\n",
              "ever_married          object\n",
              "work_type             object\n",
              "Residence_type        object\n",
              "avg_glucose_level    float64\n",
              "bmi                  float64\n",
              "smoking_status        object\n",
              "stroke                 int64\n",
              "dtype: object"
            ]
          },
          "metadata": {
            "tags": []
          },
          "execution_count": 120
        }
      ]
    },
    {
      "cell_type": "code",
      "metadata": {
        "id": "a3FlOEK72Uvm",
        "colab": {
          "base_uri": "https://localhost:8080/",
          "height": 1000
        },
        "outputId": "7437a82f-edeb-4b02-92cb-1372a82fe22b"
      },
      "source": [
        "df_test = pd.read_csv(corpus_root +'bi_stroke_test.csv')\n",
        "df_test"
      ],
      "execution_count": null,
      "outputs": [
        {
          "output_type": "execute_result",
          "data": {
            "text/html": [
              "<div>\n",
              "<style scoped>\n",
              "    .dataframe tbody tr th:only-of-type {\n",
              "        vertical-align: middle;\n",
              "    }\n",
              "\n",
              "    .dataframe tbody tr th {\n",
              "        vertical-align: top;\n",
              "    }\n",
              "\n",
              "    .dataframe thead th {\n",
              "        text-align: right;\n",
              "    }\n",
              "</style>\n",
              "<table border=\"1\" class=\"dataframe\">\n",
              "  <thead>\n",
              "    <tr style=\"text-align: right;\">\n",
              "      <th></th>\n",
              "      <th>id</th>\n",
              "      <th>gender</th>\n",
              "      <th>age</th>\n",
              "      <th>hypertension</th>\n",
              "      <th>heart_disease</th>\n",
              "      <th>ever_married</th>\n",
              "      <th>work_type</th>\n",
              "      <th>Residence_type</th>\n",
              "      <th>avg_glucose_level</th>\n",
              "      <th>bmi</th>\n",
              "      <th>smoking_status</th>\n",
              "      <th>stroke</th>\n",
              "    </tr>\n",
              "  </thead>\n",
              "  <tbody>\n",
              "    <tr>\n",
              "      <th>0</th>\n",
              "      <td>66638</td>\n",
              "      <td>Female</td>\n",
              "      <td>68</td>\n",
              "      <td>1</td>\n",
              "      <td>0</td>\n",
              "      <td>No</td>\n",
              "      <td>Self-employed</td>\n",
              "      <td>Urban</td>\n",
              "      <td>79.79</td>\n",
              "      <td>29.7</td>\n",
              "      <td>never smoked</td>\n",
              "      <td>1</td>\n",
              "    </tr>\n",
              "    <tr>\n",
              "      <th>1</th>\n",
              "      <td>70042</td>\n",
              "      <td>Male</td>\n",
              "      <td>58</td>\n",
              "      <td>0</td>\n",
              "      <td>0</td>\n",
              "      <td>Yes</td>\n",
              "      <td>Private</td>\n",
              "      <td>Urban</td>\n",
              "      <td>71.20</td>\n",
              "      <td>NaN</td>\n",
              "      <td>Unknown</td>\n",
              "      <td>1</td>\n",
              "    </tr>\n",
              "    <tr>\n",
              "      <th>2</th>\n",
              "      <td>32399</td>\n",
              "      <td>Male</td>\n",
              "      <td>54</td>\n",
              "      <td>0</td>\n",
              "      <td>0</td>\n",
              "      <td>Yes</td>\n",
              "      <td>Private</td>\n",
              "      <td>Rural</td>\n",
              "      <td>96.97</td>\n",
              "      <td>29.1</td>\n",
              "      <td>smokes</td>\n",
              "      <td>1</td>\n",
              "    </tr>\n",
              "    <tr>\n",
              "      <th>3</th>\n",
              "      <td>3253</td>\n",
              "      <td>Male</td>\n",
              "      <td>61</td>\n",
              "      <td>0</td>\n",
              "      <td>1</td>\n",
              "      <td>Yes</td>\n",
              "      <td>Private</td>\n",
              "      <td>Rural</td>\n",
              "      <td>111.81</td>\n",
              "      <td>27.3</td>\n",
              "      <td>smokes</td>\n",
              "      <td>1</td>\n",
              "    </tr>\n",
              "    <tr>\n",
              "      <th>4</th>\n",
              "      <td>71796</td>\n",
              "      <td>Female</td>\n",
              "      <td>70</td>\n",
              "      <td>0</td>\n",
              "      <td>1</td>\n",
              "      <td>Yes</td>\n",
              "      <td>Private</td>\n",
              "      <td>Rural</td>\n",
              "      <td>59.35</td>\n",
              "      <td>32.3</td>\n",
              "      <td>formerly smoked</td>\n",
              "      <td>1</td>\n",
              "    </tr>\n",
              "    <tr>\n",
              "      <th>5</th>\n",
              "      <td>14499</td>\n",
              "      <td>Male</td>\n",
              "      <td>47</td>\n",
              "      <td>0</td>\n",
              "      <td>0</td>\n",
              "      <td>Yes</td>\n",
              "      <td>Private</td>\n",
              "      <td>Urban</td>\n",
              "      <td>86.94</td>\n",
              "      <td>41.1</td>\n",
              "      <td>formerly smoked</td>\n",
              "      <td>1</td>\n",
              "    </tr>\n",
              "    <tr>\n",
              "      <th>6</th>\n",
              "      <td>49130</td>\n",
              "      <td>Male</td>\n",
              "      <td>74</td>\n",
              "      <td>0</td>\n",
              "      <td>0</td>\n",
              "      <td>Yes</td>\n",
              "      <td>Private</td>\n",
              "      <td>Urban</td>\n",
              "      <td>98.55</td>\n",
              "      <td>25.6</td>\n",
              "      <td>Unknown</td>\n",
              "      <td>1</td>\n",
              "    </tr>\n",
              "    <tr>\n",
              "      <th>7</th>\n",
              "      <td>28291</td>\n",
              "      <td>Female</td>\n",
              "      <td>79</td>\n",
              "      <td>0</td>\n",
              "      <td>1</td>\n",
              "      <td>Yes</td>\n",
              "      <td>Private</td>\n",
              "      <td>Urban</td>\n",
              "      <td>226.98</td>\n",
              "      <td>29.8</td>\n",
              "      <td>never smoked</td>\n",
              "      <td>1</td>\n",
              "    </tr>\n",
              "    <tr>\n",
              "      <th>8</th>\n",
              "      <td>51169</td>\n",
              "      <td>Male</td>\n",
              "      <td>81</td>\n",
              "      <td>0</td>\n",
              "      <td>0</td>\n",
              "      <td>Yes</td>\n",
              "      <td>Private</td>\n",
              "      <td>Urban</td>\n",
              "      <td>72.81</td>\n",
              "      <td>26.3</td>\n",
              "      <td>never smoked</td>\n",
              "      <td>1</td>\n",
              "    </tr>\n",
              "    <tr>\n",
              "      <th>9</th>\n",
              "      <td>66315</td>\n",
              "      <td>Female</td>\n",
              "      <td>57</td>\n",
              "      <td>0</td>\n",
              "      <td>0</td>\n",
              "      <td>No</td>\n",
              "      <td>Self-employed</td>\n",
              "      <td>Urban</td>\n",
              "      <td>68.02</td>\n",
              "      <td>37.5</td>\n",
              "      <td>never smoked</td>\n",
              "      <td>1</td>\n",
              "    </tr>\n",
              "    <tr>\n",
              "      <th>10</th>\n",
              "      <td>37726</td>\n",
              "      <td>Female</td>\n",
              "      <td>80</td>\n",
              "      <td>1</td>\n",
              "      <td>0</td>\n",
              "      <td>Yes</td>\n",
              "      <td>Self-employed</td>\n",
              "      <td>Urban</td>\n",
              "      <td>68.56</td>\n",
              "      <td>26.2</td>\n",
              "      <td>Unknown</td>\n",
              "      <td>1</td>\n",
              "    </tr>\n",
              "    <tr>\n",
              "      <th>11</th>\n",
              "      <td>54385</td>\n",
              "      <td>Male</td>\n",
              "      <td>45</td>\n",
              "      <td>0</td>\n",
              "      <td>0</td>\n",
              "      <td>Yes</td>\n",
              "      <td>Private</td>\n",
              "      <td>Rural</td>\n",
              "      <td>64.14</td>\n",
              "      <td>29.4</td>\n",
              "      <td>never smoked</td>\n",
              "      <td>1</td>\n",
              "    </tr>\n",
              "    <tr>\n",
              "      <th>12</th>\n",
              "      <td>2458</td>\n",
              "      <td>Female</td>\n",
              "      <td>78</td>\n",
              "      <td>0</td>\n",
              "      <td>0</td>\n",
              "      <td>Yes</td>\n",
              "      <td>Private</td>\n",
              "      <td>Rural</td>\n",
              "      <td>235.63</td>\n",
              "      <td>32.3</td>\n",
              "      <td>never smoked</td>\n",
              "      <td>1</td>\n",
              "    </tr>\n",
              "    <tr>\n",
              "      <th>13</th>\n",
              "      <td>68356</td>\n",
              "      <td>Female</td>\n",
              "      <td>73</td>\n",
              "      <td>0</td>\n",
              "      <td>0</td>\n",
              "      <td>Yes</td>\n",
              "      <td>Self-employed</td>\n",
              "      <td>Urban</td>\n",
              "      <td>70.94</td>\n",
              "      <td>34.4</td>\n",
              "      <td>never smoked</td>\n",
              "      <td>1</td>\n",
              "    </tr>\n",
              "    <tr>\n",
              "      <th>14</th>\n",
              "      <td>23368</td>\n",
              "      <td>Female</td>\n",
              "      <td>77</td>\n",
              "      <td>1</td>\n",
              "      <td>0</td>\n",
              "      <td>Yes</td>\n",
              "      <td>Self-employed</td>\n",
              "      <td>Urban</td>\n",
              "      <td>199.84</td>\n",
              "      <td>28.0</td>\n",
              "      <td>formerly smoked</td>\n",
              "      <td>1</td>\n",
              "    </tr>\n",
              "    <tr>\n",
              "      <th>15</th>\n",
              "      <td>25974</td>\n",
              "      <td>Male</td>\n",
              "      <td>78</td>\n",
              "      <td>0</td>\n",
              "      <td>0</td>\n",
              "      <td>Yes</td>\n",
              "      <td>Self-employed</td>\n",
              "      <td>Urban</td>\n",
              "      <td>218.46</td>\n",
              "      <td>26.8</td>\n",
              "      <td>Unknown</td>\n",
              "      <td>1</td>\n",
              "    </tr>\n",
              "    <tr>\n",
              "      <th>16</th>\n",
              "      <td>1210</td>\n",
              "      <td>Female</td>\n",
              "      <td>68</td>\n",
              "      <td>0</td>\n",
              "      <td>0</td>\n",
              "      <td>Yes</td>\n",
              "      <td>Private</td>\n",
              "      <td>Rural</td>\n",
              "      <td>211.06</td>\n",
              "      <td>39.3</td>\n",
              "      <td>Unknown</td>\n",
              "      <td>1</td>\n",
              "    </tr>\n",
              "    <tr>\n",
              "      <th>17</th>\n",
              "      <td>28493</td>\n",
              "      <td>Male</td>\n",
              "      <td>57</td>\n",
              "      <td>0</td>\n",
              "      <td>0</td>\n",
              "      <td>Yes</td>\n",
              "      <td>Private</td>\n",
              "      <td>Urban</td>\n",
              "      <td>86.30</td>\n",
              "      <td>31.7</td>\n",
              "      <td>Unknown</td>\n",
              "      <td>1</td>\n",
              "    </tr>\n",
              "    <tr>\n",
              "      <th>18</th>\n",
              "      <td>36857</td>\n",
              "      <td>Male</td>\n",
              "      <td>77</td>\n",
              "      <td>0</td>\n",
              "      <td>0</td>\n",
              "      <td>Yes</td>\n",
              "      <td>Self-employed</td>\n",
              "      <td>Rural</td>\n",
              "      <td>162.14</td>\n",
              "      <td>32.6</td>\n",
              "      <td>formerly smoked</td>\n",
              "      <td>1</td>\n",
              "    </tr>\n",
              "    <tr>\n",
              "      <th>19</th>\n",
              "      <td>1836</td>\n",
              "      <td>Female</td>\n",
              "      <td>51</td>\n",
              "      <td>1</td>\n",
              "      <td>0</td>\n",
              "      <td>Yes</td>\n",
              "      <td>Private</td>\n",
              "      <td>Urban</td>\n",
              "      <td>88.20</td>\n",
              "      <td>28.4</td>\n",
              "      <td>never smoked</td>\n",
              "      <td>1</td>\n",
              "    </tr>\n",
              "    <tr>\n",
              "      <th>20</th>\n",
              "      <td>32221</td>\n",
              "      <td>Male</td>\n",
              "      <td>60</td>\n",
              "      <td>0</td>\n",
              "      <td>1</td>\n",
              "      <td>Yes</td>\n",
              "      <td>Private</td>\n",
              "      <td>Urban</td>\n",
              "      <td>91.92</td>\n",
              "      <td>35.9</td>\n",
              "      <td>smokes</td>\n",
              "      <td>1</td>\n",
              "    </tr>\n",
              "    <tr>\n",
              "      <th>21</th>\n",
              "      <td>10548</td>\n",
              "      <td>Male</td>\n",
              "      <td>66</td>\n",
              "      <td>0</td>\n",
              "      <td>0</td>\n",
              "      <td>Yes</td>\n",
              "      <td>Private</td>\n",
              "      <td>Rural</td>\n",
              "      <td>76.46</td>\n",
              "      <td>21.2</td>\n",
              "      <td>formerly smoked</td>\n",
              "      <td>1</td>\n",
              "    </tr>\n",
              "    <tr>\n",
              "      <th>22</th>\n",
              "      <td>52282</td>\n",
              "      <td>Male</td>\n",
              "      <td>57</td>\n",
              "      <td>0</td>\n",
              "      <td>0</td>\n",
              "      <td>Yes</td>\n",
              "      <td>Private</td>\n",
              "      <td>Rural</td>\n",
              "      <td>197.28</td>\n",
              "      <td>34.5</td>\n",
              "      <td>formerly smoked</td>\n",
              "      <td>1</td>\n",
              "    </tr>\n",
              "    <tr>\n",
              "      <th>23</th>\n",
              "      <td>45535</td>\n",
              "      <td>Male</td>\n",
              "      <td>68</td>\n",
              "      <td>0</td>\n",
              "      <td>0</td>\n",
              "      <td>Yes</td>\n",
              "      <td>Private</td>\n",
              "      <td>Rural</td>\n",
              "      <td>233.94</td>\n",
              "      <td>42.4</td>\n",
              "      <td>never smoked</td>\n",
              "      <td>1</td>\n",
              "    </tr>\n",
              "    <tr>\n",
              "      <th>24</th>\n",
              "      <td>40460</td>\n",
              "      <td>Female</td>\n",
              "      <td>68</td>\n",
              "      <td>1</td>\n",
              "      <td>1</td>\n",
              "      <td>Yes</td>\n",
              "      <td>Private</td>\n",
              "      <td>Urban</td>\n",
              "      <td>247.51</td>\n",
              "      <td>40.5</td>\n",
              "      <td>formerly smoked</td>\n",
              "      <td>1</td>\n",
              "    </tr>\n",
              "    <tr>\n",
              "      <th>25</th>\n",
              "      <td>17739</td>\n",
              "      <td>Male</td>\n",
              "      <td>57</td>\n",
              "      <td>0</td>\n",
              "      <td>0</td>\n",
              "      <td>Yes</td>\n",
              "      <td>Private</td>\n",
              "      <td>Rural</td>\n",
              "      <td>84.96</td>\n",
              "      <td>36.7</td>\n",
              "      <td>Unknown</td>\n",
              "      <td>1</td>\n",
              "    </tr>\n",
              "    <tr>\n",
              "      <th>26</th>\n",
              "      <td>49669</td>\n",
              "      <td>Female</td>\n",
              "      <td>14</td>\n",
              "      <td>0</td>\n",
              "      <td>0</td>\n",
              "      <td>No</td>\n",
              "      <td>children</td>\n",
              "      <td>Rural</td>\n",
              "      <td>57.93</td>\n",
              "      <td>30.9</td>\n",
              "      <td>Unknown</td>\n",
              "      <td>1</td>\n",
              "    </tr>\n",
              "    <tr>\n",
              "      <th>27</th>\n",
              "      <td>27153</td>\n",
              "      <td>Female</td>\n",
              "      <td>75</td>\n",
              "      <td>0</td>\n",
              "      <td>0</td>\n",
              "      <td>Yes</td>\n",
              "      <td>Self-employed</td>\n",
              "      <td>Rural</td>\n",
              "      <td>78.80</td>\n",
              "      <td>29.3</td>\n",
              "      <td>formerly smoked</td>\n",
              "      <td>1</td>\n",
              "    </tr>\n",
              "    <tr>\n",
              "      <th>28</th>\n",
              "      <td>34060</td>\n",
              "      <td>Male</td>\n",
              "      <td>71</td>\n",
              "      <td>1</td>\n",
              "      <td>0</td>\n",
              "      <td>Yes</td>\n",
              "      <td>Self-employed</td>\n",
              "      <td>Rural</td>\n",
              "      <td>87.80</td>\n",
              "      <td>NaN</td>\n",
              "      <td>Unknown</td>\n",
              "      <td>1</td>\n",
              "    </tr>\n",
              "    <tr>\n",
              "      <th>29</th>\n",
              "      <td>43424</td>\n",
              "      <td>Female</td>\n",
              "      <td>78</td>\n",
              "      <td>0</td>\n",
              "      <td>0</td>\n",
              "      <td>Yes</td>\n",
              "      <td>Private</td>\n",
              "      <td>Rural</td>\n",
              "      <td>78.81</td>\n",
              "      <td>19.6</td>\n",
              "      <td>Unknown</td>\n",
              "      <td>1</td>\n",
              "    </tr>\n",
              "    <tr>\n",
              "      <th>30</th>\n",
              "      <td>30669</td>\n",
              "      <td>Male</td>\n",
              "      <td>3</td>\n",
              "      <td>0</td>\n",
              "      <td>0</td>\n",
              "      <td>No</td>\n",
              "      <td>children</td>\n",
              "      <td>Rural</td>\n",
              "      <td>95.12</td>\n",
              "      <td>18.0</td>\n",
              "      <td>Unknown</td>\n",
              "      <td>0</td>\n",
              "    </tr>\n",
              "    <tr>\n",
              "      <th>31</th>\n",
              "      <td>30468</td>\n",
              "      <td>Male</td>\n",
              "      <td>58</td>\n",
              "      <td>1</td>\n",
              "      <td>0</td>\n",
              "      <td>Yes</td>\n",
              "      <td>Private</td>\n",
              "      <td>Urban</td>\n",
              "      <td>87.96</td>\n",
              "      <td>39.2</td>\n",
              "      <td>never smoked</td>\n",
              "      <td>0</td>\n",
              "    </tr>\n",
              "    <tr>\n",
              "      <th>32</th>\n",
              "      <td>16523</td>\n",
              "      <td>Female</td>\n",
              "      <td>8</td>\n",
              "      <td>0</td>\n",
              "      <td>0</td>\n",
              "      <td>No</td>\n",
              "      <td>Private</td>\n",
              "      <td>Urban</td>\n",
              "      <td>110.89</td>\n",
              "      <td>17.6</td>\n",
              "      <td>Unknown</td>\n",
              "      <td>0</td>\n",
              "    </tr>\n",
              "    <tr>\n",
              "      <th>33</th>\n",
              "      <td>56543</td>\n",
              "      <td>Female</td>\n",
              "      <td>70</td>\n",
              "      <td>0</td>\n",
              "      <td>0</td>\n",
              "      <td>Yes</td>\n",
              "      <td>Private</td>\n",
              "      <td>Rural</td>\n",
              "      <td>69.04</td>\n",
              "      <td>35.9</td>\n",
              "      <td>formerly smoked</td>\n",
              "      <td>0</td>\n",
              "    </tr>\n",
              "    <tr>\n",
              "      <th>34</th>\n",
              "      <td>46136</td>\n",
              "      <td>Male</td>\n",
              "      <td>14</td>\n",
              "      <td>0</td>\n",
              "      <td>0</td>\n",
              "      <td>No</td>\n",
              "      <td>Never_worked</td>\n",
              "      <td>Rural</td>\n",
              "      <td>161.28</td>\n",
              "      <td>19.1</td>\n",
              "      <td>Unknown</td>\n",
              "      <td>0</td>\n",
              "    </tr>\n",
              "    <tr>\n",
              "      <th>35</th>\n",
              "      <td>32257</td>\n",
              "      <td>Female</td>\n",
              "      <td>47</td>\n",
              "      <td>0</td>\n",
              "      <td>0</td>\n",
              "      <td>Yes</td>\n",
              "      <td>Private</td>\n",
              "      <td>Urban</td>\n",
              "      <td>210.95</td>\n",
              "      <td>50.1</td>\n",
              "      <td>Unknown</td>\n",
              "      <td>0</td>\n",
              "    </tr>\n",
              "    <tr>\n",
              "      <th>36</th>\n",
              "      <td>52800</td>\n",
              "      <td>Female</td>\n",
              "      <td>52</td>\n",
              "      <td>0</td>\n",
              "      <td>0</td>\n",
              "      <td>Yes</td>\n",
              "      <td>Private</td>\n",
              "      <td>Urban</td>\n",
              "      <td>77.59</td>\n",
              "      <td>17.7</td>\n",
              "      <td>formerly smoked</td>\n",
              "      <td>0</td>\n",
              "    </tr>\n",
              "    <tr>\n",
              "      <th>37</th>\n",
              "      <td>41413</td>\n",
              "      <td>Female</td>\n",
              "      <td>75</td>\n",
              "      <td>0</td>\n",
              "      <td>1</td>\n",
              "      <td>Yes</td>\n",
              "      <td>Self-employed</td>\n",
              "      <td>Rural</td>\n",
              "      <td>243.53</td>\n",
              "      <td>27.0</td>\n",
              "      <td>never smoked</td>\n",
              "      <td>0</td>\n",
              "    </tr>\n",
              "    <tr>\n",
              "      <th>38</th>\n",
              "      <td>15266</td>\n",
              "      <td>Female</td>\n",
              "      <td>32</td>\n",
              "      <td>0</td>\n",
              "      <td>0</td>\n",
              "      <td>Yes</td>\n",
              "      <td>Private</td>\n",
              "      <td>Rural</td>\n",
              "      <td>77.67</td>\n",
              "      <td>32.3</td>\n",
              "      <td>smokes</td>\n",
              "      <td>0</td>\n",
              "    </tr>\n",
              "    <tr>\n",
              "      <th>39</th>\n",
              "      <td>28674</td>\n",
              "      <td>Female</td>\n",
              "      <td>74</td>\n",
              "      <td>1</td>\n",
              "      <td>0</td>\n",
              "      <td>Yes</td>\n",
              "      <td>Self-employed</td>\n",
              "      <td>Urban</td>\n",
              "      <td>205.84</td>\n",
              "      <td>54.6</td>\n",
              "      <td>never smoked</td>\n",
              "      <td>0</td>\n",
              "    </tr>\n",
              "    <tr>\n",
              "      <th>40</th>\n",
              "      <td>10460</td>\n",
              "      <td>Female</td>\n",
              "      <td>79</td>\n",
              "      <td>0</td>\n",
              "      <td>0</td>\n",
              "      <td>Yes</td>\n",
              "      <td>Govt_job</td>\n",
              "      <td>Urban</td>\n",
              "      <td>77.08</td>\n",
              "      <td>35.0</td>\n",
              "      <td>Unknown</td>\n",
              "      <td>0</td>\n",
              "    </tr>\n",
              "    <tr>\n",
              "      <th>41</th>\n",
              "      <td>64908</td>\n",
              "      <td>Male</td>\n",
              "      <td>79</td>\n",
              "      <td>0</td>\n",
              "      <td>1</td>\n",
              "      <td>Yes</td>\n",
              "      <td>Private</td>\n",
              "      <td>Urban</td>\n",
              "      <td>57.08</td>\n",
              "      <td>22.0</td>\n",
              "      <td>formerly smoked</td>\n",
              "      <td>0</td>\n",
              "    </tr>\n",
              "    <tr>\n",
              "      <th>42</th>\n",
              "      <td>63884</td>\n",
              "      <td>Female</td>\n",
              "      <td>37</td>\n",
              "      <td>0</td>\n",
              "      <td>0</td>\n",
              "      <td>Yes</td>\n",
              "      <td>Private</td>\n",
              "      <td>Rural</td>\n",
              "      <td>162.96</td>\n",
              "      <td>39.4</td>\n",
              "      <td>never smoked</td>\n",
              "      <td>0</td>\n",
              "    </tr>\n",
              "    <tr>\n",
              "      <th>43</th>\n",
              "      <td>37893</td>\n",
              "      <td>Female</td>\n",
              "      <td>37</td>\n",
              "      <td>0</td>\n",
              "      <td>0</td>\n",
              "      <td>Yes</td>\n",
              "      <td>Private</td>\n",
              "      <td>Rural</td>\n",
              "      <td>73.50</td>\n",
              "      <td>26.1</td>\n",
              "      <td>formerly smoked</td>\n",
              "      <td>0</td>\n",
              "    </tr>\n",
              "    <tr>\n",
              "      <th>44</th>\n",
              "      <td>67855</td>\n",
              "      <td>Female</td>\n",
              "      <td>40</td>\n",
              "      <td>0</td>\n",
              "      <td>0</td>\n",
              "      <td>Yes</td>\n",
              "      <td>Private</td>\n",
              "      <td>Rural</td>\n",
              "      <td>95.04</td>\n",
              "      <td>42.4</td>\n",
              "      <td>never smoked</td>\n",
              "      <td>0</td>\n",
              "    </tr>\n",
              "    <tr>\n",
              "      <th>45</th>\n",
              "      <td>25774</td>\n",
              "      <td>Male</td>\n",
              "      <td>35</td>\n",
              "      <td>0</td>\n",
              "      <td>0</td>\n",
              "      <td>No</td>\n",
              "      <td>Private</td>\n",
              "      <td>Rural</td>\n",
              "      <td>85.37</td>\n",
              "      <td>33.0</td>\n",
              "      <td>never smoked</td>\n",
              "      <td>0</td>\n",
              "    </tr>\n",
              "    <tr>\n",
              "      <th>46</th>\n",
              "      <td>19584</td>\n",
              "      <td>Female</td>\n",
              "      <td>20</td>\n",
              "      <td>0</td>\n",
              "      <td>0</td>\n",
              "      <td>No</td>\n",
              "      <td>Private</td>\n",
              "      <td>Urban</td>\n",
              "      <td>84.62</td>\n",
              "      <td>19.7</td>\n",
              "      <td>smokes</td>\n",
              "      <td>0</td>\n",
              "    </tr>\n",
              "    <tr>\n",
              "      <th>47</th>\n",
              "      <td>24447</td>\n",
              "      <td>Female</td>\n",
              "      <td>42</td>\n",
              "      <td>0</td>\n",
              "      <td>0</td>\n",
              "      <td>Yes</td>\n",
              "      <td>Private</td>\n",
              "      <td>Rural</td>\n",
              "      <td>82.67</td>\n",
              "      <td>22.5</td>\n",
              "      <td>never smoked</td>\n",
              "      <td>0</td>\n",
              "    </tr>\n",
              "    <tr>\n",
              "      <th>48</th>\n",
              "      <td>49589</td>\n",
              "      <td>Female</td>\n",
              "      <td>44</td>\n",
              "      <td>0</td>\n",
              "      <td>0</td>\n",
              "      <td>Yes</td>\n",
              "      <td>Govt_job</td>\n",
              "      <td>Urban</td>\n",
              "      <td>57.33</td>\n",
              "      <td>24.6</td>\n",
              "      <td>smokes</td>\n",
              "      <td>0</td>\n",
              "    </tr>\n",
              "    <tr>\n",
              "      <th>49</th>\n",
              "      <td>17986</td>\n",
              "      <td>Female</td>\n",
              "      <td>79</td>\n",
              "      <td>0</td>\n",
              "      <td>1</td>\n",
              "      <td>Yes</td>\n",
              "      <td>Self-employed</td>\n",
              "      <td>Urban</td>\n",
              "      <td>67.84</td>\n",
              "      <td>25.2</td>\n",
              "      <td>smokes</td>\n",
              "      <td>0</td>\n",
              "    </tr>\n",
              "    <tr>\n",
              "      <th>50</th>\n",
              "      <td>29217</td>\n",
              "      <td>Female</td>\n",
              "      <td>65</td>\n",
              "      <td>1</td>\n",
              "      <td>0</td>\n",
              "      <td>Yes</td>\n",
              "      <td>Private</td>\n",
              "      <td>Rural</td>\n",
              "      <td>75.70</td>\n",
              "      <td>41.8</td>\n",
              "      <td>Unknown</td>\n",
              "      <td>0</td>\n",
              "    </tr>\n",
              "    <tr>\n",
              "      <th>51</th>\n",
              "      <td>72911</td>\n",
              "      <td>Female</td>\n",
              "      <td>57</td>\n",
              "      <td>1</td>\n",
              "      <td>0</td>\n",
              "      <td>Yes</td>\n",
              "      <td>Private</td>\n",
              "      <td>Rural</td>\n",
              "      <td>129.54</td>\n",
              "      <td>60.9</td>\n",
              "      <td>smokes</td>\n",
              "      <td>0</td>\n",
              "    </tr>\n",
              "    <tr>\n",
              "      <th>52</th>\n",
              "      <td>47175</td>\n",
              "      <td>Female</td>\n",
              "      <td>49</td>\n",
              "      <td>0</td>\n",
              "      <td>0</td>\n",
              "      <td>Yes</td>\n",
              "      <td>Private</td>\n",
              "      <td>Rural</td>\n",
              "      <td>60.22</td>\n",
              "      <td>31.5</td>\n",
              "      <td>smokes</td>\n",
              "      <td>0</td>\n",
              "    </tr>\n",
              "    <tr>\n",
              "      <th>53</th>\n",
              "      <td>4057</td>\n",
              "      <td>Male</td>\n",
              "      <td>71</td>\n",
              "      <td>0</td>\n",
              "      <td>0</td>\n",
              "      <td>Yes</td>\n",
              "      <td>Private</td>\n",
              "      <td>Urban</td>\n",
              "      <td>198.21</td>\n",
              "      <td>27.3</td>\n",
              "      <td>formerly smoked</td>\n",
              "      <td>0</td>\n",
              "    </tr>\n",
              "    <tr>\n",
              "      <th>54</th>\n",
              "      <td>48588</td>\n",
              "      <td>Female</td>\n",
              "      <td>59</td>\n",
              "      <td>0</td>\n",
              "      <td>0</td>\n",
              "      <td>Yes</td>\n",
              "      <td>Private</td>\n",
              "      <td>Urban</td>\n",
              "      <td>109.82</td>\n",
              "      <td>23.7</td>\n",
              "      <td>never smoked</td>\n",
              "      <td>0</td>\n",
              "    </tr>\n",
              "    <tr>\n",
              "      <th>55</th>\n",
              "      <td>70336</td>\n",
              "      <td>Female</td>\n",
              "      <td>25</td>\n",
              "      <td>0</td>\n",
              "      <td>0</td>\n",
              "      <td>Yes</td>\n",
              "      <td>Private</td>\n",
              "      <td>Urban</td>\n",
              "      <td>60.84</td>\n",
              "      <td>24.5</td>\n",
              "      <td>never smoked</td>\n",
              "      <td>0</td>\n",
              "    </tr>\n",
              "    <tr>\n",
              "      <th>56</th>\n",
              "      <td>67210</td>\n",
              "      <td>Male</td>\n",
              "      <td>27</td>\n",
              "      <td>0</td>\n",
              "      <td>0</td>\n",
              "      <td>Yes</td>\n",
              "      <td>Self-employed</td>\n",
              "      <td>Urban</td>\n",
              "      <td>82.90</td>\n",
              "      <td>25.0</td>\n",
              "      <td>Unknown</td>\n",
              "      <td>0</td>\n",
              "    </tr>\n",
              "    <tr>\n",
              "      <th>57</th>\n",
              "      <td>29908</td>\n",
              "      <td>Female</td>\n",
              "      <td>47</td>\n",
              "      <td>0</td>\n",
              "      <td>0</td>\n",
              "      <td>Yes</td>\n",
              "      <td>Private</td>\n",
              "      <td>Urban</td>\n",
              "      <td>103.26</td>\n",
              "      <td>25.4</td>\n",
              "      <td>Unknown</td>\n",
              "      <td>0</td>\n",
              "    </tr>\n",
              "    <tr>\n",
              "      <th>58</th>\n",
              "      <td>45222</td>\n",
              "      <td>Male</td>\n",
              "      <td>58</td>\n",
              "      <td>1</td>\n",
              "      <td>0</td>\n",
              "      <td>No</td>\n",
              "      <td>Private</td>\n",
              "      <td>Urban</td>\n",
              "      <td>55.78</td>\n",
              "      <td>27.5</td>\n",
              "      <td>smokes</td>\n",
              "      <td>0</td>\n",
              "    </tr>\n",
              "    <tr>\n",
              "      <th>59</th>\n",
              "      <td>33759</td>\n",
              "      <td>Female</td>\n",
              "      <td>3</td>\n",
              "      <td>0</td>\n",
              "      <td>0</td>\n",
              "      <td>No</td>\n",
              "      <td>children</td>\n",
              "      <td>Urban</td>\n",
              "      <td>73.74</td>\n",
              "      <td>16.0</td>\n",
              "      <td>Unknown</td>\n",
              "      <td>0</td>\n",
              "    </tr>\n",
              "  </tbody>\n",
              "</table>\n",
              "</div>"
            ],
            "text/plain": [
              "       id  gender  age  hypertension  heart_disease ever_married  \\\n",
              "0   66638  Female   68             1              0           No   \n",
              "1   70042    Male   58             0              0          Yes   \n",
              "2   32399    Male   54             0              0          Yes   \n",
              "3    3253    Male   61             0              1          Yes   \n",
              "4   71796  Female   70             0              1          Yes   \n",
              "5   14499    Male   47             0              0          Yes   \n",
              "6   49130    Male   74             0              0          Yes   \n",
              "7   28291  Female   79             0              1          Yes   \n",
              "8   51169    Male   81             0              0          Yes   \n",
              "9   66315  Female   57             0              0           No   \n",
              "10  37726  Female   80             1              0          Yes   \n",
              "11  54385    Male   45             0              0          Yes   \n",
              "12   2458  Female   78             0              0          Yes   \n",
              "13  68356  Female   73             0              0          Yes   \n",
              "14  23368  Female   77             1              0          Yes   \n",
              "15  25974    Male   78             0              0          Yes   \n",
              "16   1210  Female   68             0              0          Yes   \n",
              "17  28493    Male   57             0              0          Yes   \n",
              "18  36857    Male   77             0              0          Yes   \n",
              "19   1836  Female   51             1              0          Yes   \n",
              "20  32221    Male   60             0              1          Yes   \n",
              "21  10548    Male   66             0              0          Yes   \n",
              "22  52282    Male   57             0              0          Yes   \n",
              "23  45535    Male   68             0              0          Yes   \n",
              "24  40460  Female   68             1              1          Yes   \n",
              "25  17739    Male   57             0              0          Yes   \n",
              "26  49669  Female   14             0              0           No   \n",
              "27  27153  Female   75             0              0          Yes   \n",
              "28  34060    Male   71             1              0          Yes   \n",
              "29  43424  Female   78             0              0          Yes   \n",
              "30  30669    Male    3             0              0           No   \n",
              "31  30468    Male   58             1              0          Yes   \n",
              "32  16523  Female    8             0              0           No   \n",
              "33  56543  Female   70             0              0          Yes   \n",
              "34  46136    Male   14             0              0           No   \n",
              "35  32257  Female   47             0              0          Yes   \n",
              "36  52800  Female   52             0              0          Yes   \n",
              "37  41413  Female   75             0              1          Yes   \n",
              "38  15266  Female   32             0              0          Yes   \n",
              "39  28674  Female   74             1              0          Yes   \n",
              "40  10460  Female   79             0              0          Yes   \n",
              "41  64908    Male   79             0              1          Yes   \n",
              "42  63884  Female   37             0              0          Yes   \n",
              "43  37893  Female   37             0              0          Yes   \n",
              "44  67855  Female   40             0              0          Yes   \n",
              "45  25774    Male   35             0              0           No   \n",
              "46  19584  Female   20             0              0           No   \n",
              "47  24447  Female   42             0              0          Yes   \n",
              "48  49589  Female   44             0              0          Yes   \n",
              "49  17986  Female   79             0              1          Yes   \n",
              "50  29217  Female   65             1              0          Yes   \n",
              "51  72911  Female   57             1              0          Yes   \n",
              "52  47175  Female   49             0              0          Yes   \n",
              "53   4057    Male   71             0              0          Yes   \n",
              "54  48588  Female   59             0              0          Yes   \n",
              "55  70336  Female   25             0              0          Yes   \n",
              "56  67210    Male   27             0              0          Yes   \n",
              "57  29908  Female   47             0              0          Yes   \n",
              "58  45222    Male   58             1              0           No   \n",
              "59  33759  Female    3             0              0           No   \n",
              "\n",
              "        work_type Residence_type  avg_glucose_level   bmi   smoking_status  \\\n",
              "0   Self-employed          Urban              79.79  29.7     never smoked   \n",
              "1         Private          Urban              71.20   NaN          Unknown   \n",
              "2         Private          Rural              96.97  29.1           smokes   \n",
              "3         Private          Rural             111.81  27.3           smokes   \n",
              "4         Private          Rural              59.35  32.3  formerly smoked   \n",
              "5         Private          Urban              86.94  41.1  formerly smoked   \n",
              "6         Private          Urban              98.55  25.6          Unknown   \n",
              "7         Private          Urban             226.98  29.8     never smoked   \n",
              "8         Private          Urban              72.81  26.3     never smoked   \n",
              "9   Self-employed          Urban              68.02  37.5     never smoked   \n",
              "10  Self-employed          Urban              68.56  26.2          Unknown   \n",
              "11        Private          Rural              64.14  29.4     never smoked   \n",
              "12        Private          Rural             235.63  32.3     never smoked   \n",
              "13  Self-employed          Urban              70.94  34.4     never smoked   \n",
              "14  Self-employed          Urban             199.84  28.0  formerly smoked   \n",
              "15  Self-employed          Urban             218.46  26.8          Unknown   \n",
              "16        Private          Rural             211.06  39.3          Unknown   \n",
              "17        Private          Urban              86.30  31.7          Unknown   \n",
              "18  Self-employed          Rural             162.14  32.6  formerly smoked   \n",
              "19        Private          Urban              88.20  28.4     never smoked   \n",
              "20        Private          Urban              91.92  35.9           smokes   \n",
              "21        Private          Rural              76.46  21.2  formerly smoked   \n",
              "22        Private          Rural             197.28  34.5  formerly smoked   \n",
              "23        Private          Rural             233.94  42.4     never smoked   \n",
              "24        Private          Urban             247.51  40.5  formerly smoked   \n",
              "25        Private          Rural              84.96  36.7          Unknown   \n",
              "26       children          Rural              57.93  30.9          Unknown   \n",
              "27  Self-employed          Rural              78.80  29.3  formerly smoked   \n",
              "28  Self-employed          Rural              87.80   NaN          Unknown   \n",
              "29        Private          Rural              78.81  19.6          Unknown   \n",
              "30       children          Rural              95.12  18.0          Unknown   \n",
              "31        Private          Urban              87.96  39.2     never smoked   \n",
              "32        Private          Urban             110.89  17.6          Unknown   \n",
              "33        Private          Rural              69.04  35.9  formerly smoked   \n",
              "34   Never_worked          Rural             161.28  19.1          Unknown   \n",
              "35        Private          Urban             210.95  50.1          Unknown   \n",
              "36        Private          Urban              77.59  17.7  formerly smoked   \n",
              "37  Self-employed          Rural             243.53  27.0     never smoked   \n",
              "38        Private          Rural              77.67  32.3           smokes   \n",
              "39  Self-employed          Urban             205.84  54.6     never smoked   \n",
              "40       Govt_job          Urban              77.08  35.0          Unknown   \n",
              "41        Private          Urban              57.08  22.0  formerly smoked   \n",
              "42        Private          Rural             162.96  39.4     never smoked   \n",
              "43        Private          Rural              73.50  26.1  formerly smoked   \n",
              "44        Private          Rural              95.04  42.4     never smoked   \n",
              "45        Private          Rural              85.37  33.0     never smoked   \n",
              "46        Private          Urban              84.62  19.7           smokes   \n",
              "47        Private          Rural              82.67  22.5     never smoked   \n",
              "48       Govt_job          Urban              57.33  24.6           smokes   \n",
              "49  Self-employed          Urban              67.84  25.2           smokes   \n",
              "50        Private          Rural              75.70  41.8          Unknown   \n",
              "51        Private          Rural             129.54  60.9           smokes   \n",
              "52        Private          Rural              60.22  31.5           smokes   \n",
              "53        Private          Urban             198.21  27.3  formerly smoked   \n",
              "54        Private          Urban             109.82  23.7     never smoked   \n",
              "55        Private          Urban              60.84  24.5     never smoked   \n",
              "56  Self-employed          Urban              82.90  25.0          Unknown   \n",
              "57        Private          Urban             103.26  25.4          Unknown   \n",
              "58        Private          Urban              55.78  27.5           smokes   \n",
              "59       children          Urban              73.74  16.0          Unknown   \n",
              "\n",
              "    stroke  \n",
              "0        1  \n",
              "1        1  \n",
              "2        1  \n",
              "3        1  \n",
              "4        1  \n",
              "5        1  \n",
              "6        1  \n",
              "7        1  \n",
              "8        1  \n",
              "9        1  \n",
              "10       1  \n",
              "11       1  \n",
              "12       1  \n",
              "13       1  \n",
              "14       1  \n",
              "15       1  \n",
              "16       1  \n",
              "17       1  \n",
              "18       1  \n",
              "19       1  \n",
              "20       1  \n",
              "21       1  \n",
              "22       1  \n",
              "23       1  \n",
              "24       1  \n",
              "25       1  \n",
              "26       1  \n",
              "27       1  \n",
              "28       1  \n",
              "29       1  \n",
              "30       0  \n",
              "31       0  \n",
              "32       0  \n",
              "33       0  \n",
              "34       0  \n",
              "35       0  \n",
              "36       0  \n",
              "37       0  \n",
              "38       0  \n",
              "39       0  \n",
              "40       0  \n",
              "41       0  \n",
              "42       0  \n",
              "43       0  \n",
              "44       0  \n",
              "45       0  \n",
              "46       0  \n",
              "47       0  \n",
              "48       0  \n",
              "49       0  \n",
              "50       0  \n",
              "51       0  \n",
              "52       0  \n",
              "53       0  \n",
              "54       0  \n",
              "55       0  \n",
              "56       0  \n",
              "57       0  \n",
              "58       0  \n",
              "59       0  "
            ]
          },
          "metadata": {
            "tags": []
          },
          "execution_count": 121
        }
      ]
    },
    {
      "cell_type": "code",
      "metadata": {
        "colab": {
          "base_uri": "https://localhost:8080/"
        },
        "id": "q4eT9VG3NnWj",
        "outputId": "26b4dbe2-f3d9-43e9-d785-387194963413"
      },
      "source": [
        "df_train[\"hypertension\"].dtype"
      ],
      "execution_count": null,
      "outputs": [
        {
          "output_type": "execute_result",
          "data": {
            "text/plain": [
              "dtype('int64')"
            ]
          },
          "metadata": {
            "tags": []
          },
          "execution_count": 122
        }
      ]
    },
    {
      "cell_type": "code",
      "metadata": {
        "colab": {
          "base_uri": "https://localhost:8080/"
        },
        "id": "YR0fsqLK5DJY",
        "outputId": "77a88dc2-4507-46d6-d82b-8d4b9f435ee3"
      },
      "source": [
        "df_train[\"work_type\"].unique()"
      ],
      "execution_count": null,
      "outputs": [
        {
          "output_type": "execute_result",
          "data": {
            "text/plain": [
              "array(['Private', 'Self-employed', 'Govt_job', 'children', 'Never_worked'],\n",
              "      dtype=object)"
            ]
          },
          "metadata": {
            "tags": []
          },
          "execution_count": 123
        }
      ]
    },
    {
      "cell_type": "code",
      "metadata": {
        "colab": {
          "base_uri": "https://localhost:8080/"
        },
        "id": "ihTW1kqG55lP",
        "outputId": "81373489-6808-4a57-e1b1-b1e6b5a62443"
      },
      "source": [
        "df_train[\"gender\"].unique()"
      ],
      "execution_count": null,
      "outputs": [
        {
          "output_type": "execute_result",
          "data": {
            "text/plain": [
              "array(['Male', 'Female', 'Other'], dtype=object)"
            ]
          },
          "metadata": {
            "tags": []
          },
          "execution_count": 124
        }
      ]
    },
    {
      "cell_type": "code",
      "metadata": {
        "colab": {
          "base_uri": "https://localhost:8080/"
        },
        "id": "wNkk_D3y6AnC",
        "outputId": "0ca5a853-e15c-49c2-aa60-4a6f86b5c370"
      },
      "source": [
        "df_train[\"hypertension\"].unique()"
      ],
      "execution_count": null,
      "outputs": [
        {
          "output_type": "execute_result",
          "data": {
            "text/plain": [
              "array([0, 1])"
            ]
          },
          "metadata": {
            "tags": []
          },
          "execution_count": 125
        }
      ]
    },
    {
      "cell_type": "code",
      "metadata": {
        "colab": {
          "base_uri": "https://localhost:8080/"
        },
        "id": "d0Dkc_Vd6FDj",
        "outputId": "06a2264b-225a-4aca-ced6-b985971a32d6"
      },
      "source": [
        "df_train[\"ever_married\"].unique()"
      ],
      "execution_count": null,
      "outputs": [
        {
          "output_type": "execute_result",
          "data": {
            "text/plain": [
              "array(['Yes', 'No'], dtype=object)"
            ]
          },
          "metadata": {
            "tags": []
          },
          "execution_count": 126
        }
      ]
    },
    {
      "cell_type": "code",
      "metadata": {
        "colab": {
          "base_uri": "https://localhost:8080/"
        },
        "id": "O7Eo_uJ36L8X",
        "outputId": "21e7c06b-f2f9-4e3c-f01b-eae22c021668"
      },
      "source": [
        "df_train[\"Residence_type\"].unique()"
      ],
      "execution_count": null,
      "outputs": [
        {
          "output_type": "execute_result",
          "data": {
            "text/plain": [
              "array(['Urban', 'Rural'], dtype=object)"
            ]
          },
          "metadata": {
            "tags": []
          },
          "execution_count": 127
        }
      ]
    },
    {
      "cell_type": "code",
      "metadata": {
        "colab": {
          "base_uri": "https://localhost:8080/"
        },
        "id": "Cu-Z_pH36S4b",
        "outputId": "7d865719-69be-43d0-a71d-3479a159b1a0"
      },
      "source": [
        "df_train[\"smoking_status\"].unique()"
      ],
      "execution_count": null,
      "outputs": [
        {
          "output_type": "execute_result",
          "data": {
            "text/plain": [
              "array(['formerly smoked', 'never smoked', 'smokes', 'Unknown'],\n",
              "      dtype=object)"
            ]
          },
          "metadata": {
            "tags": []
          },
          "execution_count": 128
        }
      ]
    },
    {
      "cell_type": "code",
      "metadata": {
        "colab": {
          "base_uri": "https://localhost:8080/"
        },
        "id": "_IUkHwoa6ZnJ",
        "outputId": "fd9f2634-7e80-407b-f8ba-9fc90b01badc"
      },
      "source": [
        "df_train[\"stroke\"].unique()"
      ],
      "execution_count": null,
      "outputs": [
        {
          "output_type": "execute_result",
          "data": {
            "text/plain": [
              "array([1, 0])"
            ]
          },
          "metadata": {
            "tags": []
          },
          "execution_count": 129
        }
      ]
    },
    {
      "cell_type": "code",
      "metadata": {
        "colab": {
          "base_uri": "https://localhost:8080/"
        },
        "id": "O1DeT3In7hQ8",
        "outputId": "46758140-2ac6-4c98-ebda-2a1984427494"
      },
      "source": [
        "df_train[\"bmi\"]=df_train[\"bmi\"].replace('NaN', '')\n",
        "df_train[\"bmi\"].isnull().sum()"
      ],
      "execution_count": null,
      "outputs": [
        {
          "output_type": "execute_result",
          "data": {
            "text/plain": [
              "201"
            ]
          },
          "metadata": {
            "tags": []
          },
          "execution_count": 130
        }
      ]
    },
    {
      "cell_type": "code",
      "metadata": {
        "colab": {
          "base_uri": "https://localhost:8080/",
          "height": 349
        },
        "id": "YOj4NdWa6gWG",
        "outputId": "a902f328-91f4-4f65-adb4-5237ff80520b"
      },
      "source": [
        "import numpy as np\n",
        "import pandas as pd\n",
        "import matplotlib.pyplot as plt\n",
        "\n",
        "target_count = df_train.stroke.value_counts()\n",
        "print('中風:', target_count[0])\n",
        "print('沒有中風:', target_count[1])\n",
        "# print('Proportion:', round(target_count[\"0\"] / target_count[\"1\"], 2), ': 1')\n",
        "bars = ('No', 'Yes')\n",
        "print(type(target_count))\n",
        "plt.title(\"count\")\n",
        "plt.bar(bars,target_count,color=[ 'blue',  'orange'])"
      ],
      "execution_count": null,
      "outputs": [
        {
          "output_type": "stream",
          "text": [
            "中風: 4861\n",
            "沒有中風: 249\n",
            "<class 'pandas.core.series.Series'>\n"
          ],
          "name": "stdout"
        },
        {
          "output_type": "execute_result",
          "data": {
            "text/plain": [
              "<BarContainer object of 2 artists>"
            ]
          },
          "metadata": {
            "tags": []
          },
          "execution_count": 131
        },
        {
          "output_type": "display_data",
          "data": {
            "image/png": "[encoded data removed]",
            "text/plain": [
              "<Figure size 432x288 with 1 Axes>"
            ]
          },
          "metadata": {
            "tags": [],
            "needs_background": "light"
          }
        }
      ]
    },
    {
      "cell_type": "code",
      "metadata": {
        "id": "4Zq5yqMgvnZy",
        "colab": {
          "base_uri": "https://localhost:8080/"
        },
        "outputId": "17e8f008-5649-4379-c8b8-ac9a8cfb7765"
      },
      "source": [
        "# 計算、資料處理\n",
        "import numpy as np\n",
        "import pandas as pd\n",
        "from collections import Counter\n",
        "\n",
        "#訓練資料\n",
        "from sklearn.model_selection import train_test_split,GridSearchCV\n",
        "\n",
        "#Metrics\n",
        "from sklearn.metrics import average_precision_score\n",
        "from sklearn.metrics import precision_recall_curve\n",
        "from sklearn.metrics import plot_precision_recall_curve\n",
        "\n",
        "# 視覺化\n",
        "import matplotlib.pyplot as plt\n",
        "import seaborn as sns\n",
        "%matplotlib inline\n",
        "\n",
        "from pylab import mpl\n",
        "mpl.rcParams['font.sans-serif'] = ['Microsoft YaHei']  \n",
        "mpl.rcParams['axes.unicode_minus'] = False\n",
        "\n",
        "#文字\n",
        "import nltk\n",
        "nltk.download('punkt')\n",
        "from nltk.tokenize import word_tokenize\n",
        "\n",
        "#設定最大能顯示1000rows\n",
        "pd.set_option(\"display.max_rows\", 1000)    \n",
        "pd.set_option(\"display.max_columns\", 1000)\n"
      ],
      "execution_count": null,
      "outputs": [
        {
          "output_type": "stream",
          "text": [
            "[nltk_data] Downloading package punkt to /root/nltk_data...\n",
            "[nltk_data]   Package punkt is already up-to-date!\n"
          ],
          "name": "stdout"
        }
      ]
    },
    {
      "cell_type": "code",
      "metadata": {
        "id": "p8biArTGvnZ_"
      },
      "source": [
        "# 老師的\n",
        "coded_ever_married = {'Yes':1, 'No':0}\n",
        "coded_work_type = {'Private':1, 'Self-employed':2, 'Govt_job':3, 'children':4,'Never_worked':4}\n",
        "coded_gender = {'Male':1, 'Female':2,'Other':3}\n",
        "coded_smoking_status ={'formerly smoked':1, 'never smoked':2,'smokes':3, 'Unknown':4}\n",
        "coded_Residence_type={'Urban':1, 'Rural':2}\n",
        "# girlWord = ['beautiful', 'girl']\n",
        "# boyWord = ['man','handsome']\n",
        "\n",
        "#身高體重 BMI\n",
        "def BMI(x,y):\n",
        "    y = y/100\n",
        "    y += 0.00000000001\n",
        "    return x/(y*y)\n",
        "\n",
        "#文字分詞\n",
        "def token(text):\n",
        "    array = []\n",
        "    for i in text:\n",
        "        nltk_tokens = nltk.word_tokenize(i)\n",
        "        i = nltk_tokens\n",
        "        array.append(i)\n",
        "    return array\n",
        "\n",
        "#數詞的數量\n",
        "def token_count(text):\n",
        "    b = []\n",
        "    for i in text:\n",
        "        count = len(i)\n",
        "        b.append(count)\n",
        "    return b"
      ],
      "execution_count": null,
      "outputs": []
    },
    {
      "cell_type": "code",
      "metadata": {
        "id": "mABmpJYxTOck"
      },
      "source": [
        "df_train = df_train.replace({\"gender\": coded_gender})"
      ],
      "execution_count": null,
      "outputs": []
    },
    {
      "cell_type": "code",
      "metadata": {
        "id": "irtqyALc3T3o"
      },
      "source": [
        "df_train = df_train.replace({\"ever_married\": coded_ever_married})"
      ],
      "execution_count": null,
      "outputs": []
    },
    {
      "cell_type": "code",
      "metadata": {
        "id": "5yHXNQMj3V7H"
      },
      "source": [
        "df_train = df_train.replace({\"work_type\": coded_work_type})"
      ],
      "execution_count": null,
      "outputs": []
    },
    {
      "cell_type": "code",
      "metadata": {
        "id": "H1LuA8o33XHY"
      },
      "source": [
        " df_train = df_train.replace({\"Residence_type\": coded_Residence_type})"
      ],
      "execution_count": null,
      "outputs": []
    },
    {
      "cell_type": "code",
      "metadata": {
        "id": "lhObcapx3YOg"
      },
      "source": [
        "df_train = df_train.replace({\"smoking_status\": coded_smoking_status})"
      ],
      "execution_count": null,
      "outputs": []
    },
    {
      "cell_type": "code",
      "metadata": {
        "id": "gZ0YekLJ3nkb"
      },
      "source": [
        "df_train['bmi'] = df_train['bmi'].fillna(df_train['bmi'].mean())"
      ],
      "execution_count": null,
      "outputs": []
    },
    {
      "cell_type": "code",
      "metadata": {
        "colab": {
          "base_uri": "https://localhost:8080/",
          "height": 419
        },
        "id": "oOsPB-gc8Apq",
        "outputId": "a87933f8-3720-4f25-8b38-a8e4da325bc4"
      },
      "source": [
        "df_train"
      ],
      "execution_count": null,
      "outputs": [
        {
          "output_type": "execute_result",
          "data": {
            "text/html": [
              "<div>\n",
              "<style scoped>\n",
              "    .dataframe tbody tr th:only-of-type {\n",
              "        vertical-align: middle;\n",
              "    }\n",
              "\n",
              "    .dataframe tbody tr th {\n",
              "        vertical-align: top;\n",
              "    }\n",
              "\n",
              "    .dataframe thead th {\n",
              "        text-align: right;\n",
              "    }\n",
              "</style>\n",
              "<table border=\"1\" class=\"dataframe\">\n",
              "  <thead>\n",
              "    <tr style=\"text-align: right;\">\n",
              "      <th></th>\n",
              "      <th>id</th>\n",
              "      <th>gender</th>\n",
              "      <th>age</th>\n",
              "      <th>hypertension</th>\n",
              "      <th>heart_disease</th>\n",
              "      <th>ever_married</th>\n",
              "      <th>work_type</th>\n",
              "      <th>Residence_type</th>\n",
              "      <th>avg_glucose_level</th>\n",
              "      <th>bmi</th>\n",
              "      <th>smoking_status</th>\n",
              "      <th>stroke</th>\n",
              "    </tr>\n",
              "  </thead>\n",
              "  <tbody>\n",
              "    <tr>\n",
              "      <th>0</th>\n",
              "      <td>9046</td>\n",
              "      <td>1</td>\n",
              "      <td>67.0</td>\n",
              "      <td>0</td>\n",
              "      <td>1</td>\n",
              "      <td>1</td>\n",
              "      <td>1</td>\n",
              "      <td>1</td>\n",
              "      <td>228.69</td>\n",
              "      <td>36.600000</td>\n",
              "      <td>1</td>\n",
              "      <td>1</td>\n",
              "    </tr>\n",
              "    <tr>\n",
              "      <th>1</th>\n",
              "      <td>51676</td>\n",
              "      <td>2</td>\n",
              "      <td>61.0</td>\n",
              "      <td>0</td>\n",
              "      <td>0</td>\n",
              "      <td>1</td>\n",
              "      <td>2</td>\n",
              "      <td>2</td>\n",
              "      <td>202.21</td>\n",
              "      <td>28.893237</td>\n",
              "      <td>2</td>\n",
              "      <td>1</td>\n",
              "    </tr>\n",
              "    <tr>\n",
              "      <th>2</th>\n",
              "      <td>31112</td>\n",
              "      <td>1</td>\n",
              "      <td>80.0</td>\n",
              "      <td>0</td>\n",
              "      <td>1</td>\n",
              "      <td>1</td>\n",
              "      <td>1</td>\n",
              "      <td>2</td>\n",
              "      <td>105.92</td>\n",
              "      <td>32.500000</td>\n",
              "      <td>2</td>\n",
              "      <td>1</td>\n",
              "    </tr>\n",
              "    <tr>\n",
              "      <th>3</th>\n",
              "      <td>60182</td>\n",
              "      <td>2</td>\n",
              "      <td>49.0</td>\n",
              "      <td>0</td>\n",
              "      <td>0</td>\n",
              "      <td>1</td>\n",
              "      <td>1</td>\n",
              "      <td>1</td>\n",
              "      <td>171.23</td>\n",
              "      <td>34.400000</td>\n",
              "      <td>3</td>\n",
              "      <td>1</td>\n",
              "    </tr>\n",
              "    <tr>\n",
              "      <th>4</th>\n",
              "      <td>1665</td>\n",
              "      <td>2</td>\n",
              "      <td>79.0</td>\n",
              "      <td>1</td>\n",
              "      <td>0</td>\n",
              "      <td>1</td>\n",
              "      <td>2</td>\n",
              "      <td>2</td>\n",
              "      <td>174.12</td>\n",
              "      <td>24.000000</td>\n",
              "      <td>2</td>\n",
              "      <td>1</td>\n",
              "    </tr>\n",
              "    <tr>\n",
              "      <th>...</th>\n",
              "      <td>...</td>\n",
              "      <td>...</td>\n",
              "      <td>...</td>\n",
              "      <td>...</td>\n",
              "      <td>...</td>\n",
              "      <td>...</td>\n",
              "      <td>...</td>\n",
              "      <td>...</td>\n",
              "      <td>...</td>\n",
              "      <td>...</td>\n",
              "      <td>...</td>\n",
              "      <td>...</td>\n",
              "    </tr>\n",
              "    <tr>\n",
              "      <th>5105</th>\n",
              "      <td>18234</td>\n",
              "      <td>2</td>\n",
              "      <td>80.0</td>\n",
              "      <td>1</td>\n",
              "      <td>0</td>\n",
              "      <td>1</td>\n",
              "      <td>1</td>\n",
              "      <td>1</td>\n",
              "      <td>83.75</td>\n",
              "      <td>28.893237</td>\n",
              "      <td>2</td>\n",
              "      <td>0</td>\n",
              "    </tr>\n",
              "    <tr>\n",
              "      <th>5106</th>\n",
              "      <td>44873</td>\n",
              "      <td>2</td>\n",
              "      <td>81.0</td>\n",
              "      <td>0</td>\n",
              "      <td>0</td>\n",
              "      <td>1</td>\n",
              "      <td>2</td>\n",
              "      <td>1</td>\n",
              "      <td>125.20</td>\n",
              "      <td>40.000000</td>\n",
              "      <td>2</td>\n",
              "      <td>0</td>\n",
              "    </tr>\n",
              "    <tr>\n",
              "      <th>5107</th>\n",
              "      <td>19723</td>\n",
              "      <td>2</td>\n",
              "      <td>35.0</td>\n",
              "      <td>0</td>\n",
              "      <td>0</td>\n",
              "      <td>1</td>\n",
              "      <td>2</td>\n",
              "      <td>2</td>\n",
              "      <td>82.99</td>\n",
              "      <td>30.600000</td>\n",
              "      <td>2</td>\n",
              "      <td>0</td>\n",
              "    </tr>\n",
              "    <tr>\n",
              "      <th>5108</th>\n",
              "      <td>37544</td>\n",
              "      <td>1</td>\n",
              "      <td>51.0</td>\n",
              "      <td>0</td>\n",
              "      <td>0</td>\n",
              "      <td>1</td>\n",
              "      <td>1</td>\n",
              "      <td>2</td>\n",
              "      <td>166.29</td>\n",
              "      <td>25.600000</td>\n",
              "      <td>1</td>\n",
              "      <td>0</td>\n",
              "    </tr>\n",
              "    <tr>\n",
              "      <th>5109</th>\n",
              "      <td>44679</td>\n",
              "      <td>2</td>\n",
              "      <td>44.0</td>\n",
              "      <td>0</td>\n",
              "      <td>0</td>\n",
              "      <td>1</td>\n",
              "      <td>3</td>\n",
              "      <td>1</td>\n",
              "      <td>85.28</td>\n",
              "      <td>26.200000</td>\n",
              "      <td>4</td>\n",
              "      <td>0</td>\n",
              "    </tr>\n",
              "  </tbody>\n",
              "</table>\n",
              "<p>5110 rows × 12 columns</p>\n",
              "</div>"
            ],
            "text/plain": [
              "         id  gender   age  hypertension  heart_disease  ever_married  \\\n",
              "0      9046       1  67.0             0              1             1   \n",
              "1     51676       2  61.0             0              0             1   \n",
              "2     31112       1  80.0             0              1             1   \n",
              "3     60182       2  49.0             0              0             1   \n",
              "4      1665       2  79.0             1              0             1   \n",
              "...     ...     ...   ...           ...            ...           ...   \n",
              "5105  18234       2  80.0             1              0             1   \n",
              "5106  44873       2  81.0             0              0             1   \n",
              "5107  19723       2  35.0             0              0             1   \n",
              "5108  37544       1  51.0             0              0             1   \n",
              "5109  44679       2  44.0             0              0             1   \n",
              "\n",
              "      work_type  Residence_type  avg_glucose_level        bmi  smoking_status  \\\n",
              "0             1               1             228.69  36.600000               1   \n",
              "1             2               2             202.21  28.893237               2   \n",
              "2             1               2             105.92  32.500000               2   \n",
              "3             1               1             171.23  34.400000               3   \n",
              "4             2               2             174.12  24.000000               2   \n",
              "...         ...             ...                ...        ...             ...   \n",
              "5105          1               1              83.75  28.893237               2   \n",
              "5106          2               1             125.20  40.000000               2   \n",
              "5107          2               2              82.99  30.600000               2   \n",
              "5108          1               2             166.29  25.600000               1   \n",
              "5109          3               1              85.28  26.200000               4   \n",
              "\n",
              "      stroke  \n",
              "0          1  \n",
              "1          1  \n",
              "2          1  \n",
              "3          1  \n",
              "4          1  \n",
              "...      ...  \n",
              "5105       0  \n",
              "5106       0  \n",
              "5107       0  \n",
              "5108       0  \n",
              "5109       0  \n",
              "\n",
              "[5110 rows x 12 columns]"
            ]
          },
          "metadata": {
            "tags": []
          },
          "execution_count": 140
        }
      ]
    },
    {
      "cell_type": "code",
      "metadata": {
        "id": "QJIKjucY43-6"
      },
      "source": [
        "df_test = df_test.replace({\"gender\": coded_gender})\n",
        "df_test = df_test.replace({\"ever_married\": coded_ever_married})"
      ],
      "execution_count": null,
      "outputs": []
    },
    {
      "cell_type": "code",
      "metadata": {
        "id": "y8fAADuI46QK"
      },
      "source": [
        "df_test = df_test.replace({\"work_type\":coded_work_type})"
      ],
      "execution_count": null,
      "outputs": []
    },
    {
      "cell_type": "code",
      "metadata": {
        "id": "YUAZUSn547zV"
      },
      "source": [
        "df_test = df_test.replace({\"Residence_type\": coded_Residence_type})"
      ],
      "execution_count": null,
      "outputs": []
    },
    {
      "cell_type": "code",
      "metadata": {
        "id": "HhSI0xxn49RU"
      },
      "source": [
        "df_test = df_test.replace({\"smoking_status\": coded_smoking_status})"
      ],
      "execution_count": null,
      "outputs": []
    },
    {
      "cell_type": "code",
      "metadata": {
        "id": "IGVGrjT35HnZ"
      },
      "source": [
        "df_test['bmi'] = df_test['bmi'].fillna(df_test['bmi'].mean())"
      ],
      "execution_count": null,
      "outputs": []
    },
    {
      "cell_type": "code",
      "metadata": {
        "id": "WEuzJY4NvnaE"
      },
      "source": [
        "#切驗證集\n",
        "X = df_train.drop('stroke',axis=1)\n",
        "y = df_train['stroke']\n",
        "test = df_test.drop('stroke',axis=1)\n",
        "\n"
      ],
      "execution_count": null,
      "outputs": []
    },
    {
      "cell_type": "code",
      "metadata": {
        "id": "BwRIlRuMCXBO"
      },
      "source": [
        "# from sklearn.utils import shuffle\n",
        "# X,y = shuffle(X,y, random_state=1337) "
      ],
      "execution_count": null,
      "outputs": []
    },
    {
      "cell_type": "code",
      "metadata": {
        "colab": {
          "base_uri": "https://localhost:8080/"
        },
        "id": "YO6Ue5wmmSWb",
        "outputId": "f14bd41d-0f27-4027-b29b-8384ad10311a"
      },
      "source": [
        "#undersampling\n",
        "from imblearn.under_sampling import NearMiss\n",
        "undersample = NearMiss(version=1, n_neighbors=3)\n",
        "X_under, y_under = undersample.fit_resample(X, y)"
      ],
      "execution_count": null,
      "outputs": [
        {
          "output_type": "stream",
          "text": [
            "/usr/local/lib/python3.7/dist-packages/sklearn/utils/deprecation.py:87: FutureWarning: Function safe_indexing is deprecated; safe_indexing is deprecated in version 0.22 and will be removed in version 0.24.\n",
            "  warnings.warn(msg, category=FutureWarning)\n",
            "/usr/local/lib/python3.7/dist-packages/sklearn/utils/deprecation.py:87: FutureWarning: Function safe_indexing is deprecated; safe_indexing is deprecated in version 0.22 and will be removed in version 0.24.\n",
            "  warnings.warn(msg, category=FutureWarning)\n",
            "/usr/local/lib/python3.7/dist-packages/sklearn/utils/deprecation.py:87: FutureWarning: Function safe_indexing is deprecated; safe_indexing is deprecated in version 0.22 and will be removed in version 0.24.\n",
            "  warnings.warn(msg, category=FutureWarning)\n"
          ],
          "name": "stderr"
        }
      ]
    },
    {
      "cell_type": "code",
      "metadata": {
        "id": "u50yWV3T8B2D"
      },
      "source": [
        "X_train, X_test, y_train, y_test = train_test_split(X_under, y_under, test_size = 0.2)"
      ],
      "execution_count": null,
      "outputs": []
    },
    {
      "cell_type": "code",
      "metadata": {
        "colab": {
          "base_uri": "https://localhost:8080/",
          "height": 370
        },
        "id": "6JVvIGKWmbE_",
        "outputId": "584f86a2-1fe6-4265-fac5-d09196d57f32"
      },
      "source": [
        "print('Class 0沒中風 1:中風:', np.bincount(y_under))\n",
        "# print('Class real:', (y_smote==0).sum)\n",
        "print(\"性別: 0:沒中風 1:中風\")\n",
        "sns.countplot(y_under)"
      ],
      "execution_count": null,
      "outputs": [
        {
          "output_type": "stream",
          "text": [
            "Class 0沒中風 1:中風: [249 249]\n",
            "性別: 0:沒中風 1:中風\n"
          ],
          "name": "stdout"
        },
        {
          "output_type": "stream",
          "text": [
            "/usr/local/lib/python3.7/dist-packages/seaborn/_decorators.py:43: FutureWarning: Pass the following variable as a keyword arg: x. From version 0.12, the only valid positional argument will be `data`, and passing other arguments without an explicit keyword will result in an error or misinterpretation.\n",
            "  FutureWarning\n"
          ],
          "name": "stderr"
        },
        {
          "output_type": "execute_result",
          "data": {
            "text/plain": [
              "<matplotlib.axes._subplots.AxesSubplot at 0x7febb5290690>"
            ]
          },
          "metadata": {
            "tags": []
          },
          "execution_count": 150
        },
        {
          "output_type": "display_data",
          "data": {
            "image/png": "[encoded data removed]",
            "text/plain": [
              "<Figure size 432x288 with 1 Axes>"
            ]
          },
          "metadata": {
            "tags": [],
            "needs_background": "light"
          }
        }
      ]
    },
    {
      "cell_type": "code",
      "metadata": {
        "colab": {
          "base_uri": "https://localhost:8080/",
          "height": 168
        },
        "id": "Dfn_e6QMXeTd",
        "outputId": "0470c8cb-2754-486c-b03d-01558f10b333"
      },
      "source": [
        "a"
      ],
      "execution_count": null,
      "outputs": [
        {
          "output_type": "error",
          "ename": "NameError",
          "evalue": "ignored",
          "traceback": [
            "\u001b[0;31m---------------------------------------------------------------------------\u001b[0m",
            "\u001b[0;31mNameError\u001b[0m                                 Traceback (most recent call last)",
            "\u001b[0;32m<ipython-input-151-3f786850e387>\u001b[0m in \u001b[0;36m<module>\u001b[0;34m()\u001b[0m\n\u001b[0;32m----> 1\u001b[0;31m \u001b[0ma\u001b[0m\u001b[0;34m\u001b[0m\u001b[0;34m\u001b[0m\u001b[0m\n\u001b[0m",
            "\u001b[0;31mNameError\u001b[0m: name 'a' is not defined"
          ]
        }
      ]
    },
    {
      "cell_type": "code",
      "metadata": {
        "id": "AkNqJouU8wiQ"
      },
      "source": [
        "\n",
        "# print('Class 0沒中風 1:中風:', np.bincount(y_smote))\n",
        "# # print('Class real:', (y_smote==0).sum)\n",
        "# print(\"性別: 0:沒中風 1:中風\")\n",
        "# sns.countplot(y_smote)\n"
      ],
      "execution_count": null,
      "outputs": []
    },
    {
      "cell_type": "code",
      "metadata": {
        "id": "qrOfdSHM5Z9k"
      },
      "source": [
        "X_train.shape"
      ],
      "execution_count": null,
      "outputs": []
    },
    {
      "cell_type": "code",
      "metadata": {
        "id": "ViDgD92n20IS"
      },
      "source": [
        "y_train.shape"
      ],
      "execution_count": null,
      "outputs": []
    },
    {
      "cell_type": "code",
      "metadata": {
        "id": "eo5zqDrzErpm"
      },
      "source": [
        ""
      ],
      "execution_count": null,
      "outputs": []
    },
    {
      "cell_type": "markdown",
      "metadata": {
        "id": "hYWGNZ7uvnaT"
      },
      "source": [
        "<font face = TimeRomans size=3 color =blue>隨機森林</font>"
      ]
    },
    {
      "cell_type": "code",
      "metadata": {
        "id": "EnwolN6AvnaT"
      },
      "source": [
        "# 使用 random forest   #ref: https://medium.com/jameslearningnote/%E8%B3%87%E6%96%99%E5%88%86%E6%9E%90-%E6%A9%9F%E5%99%A8%E5%AD%B8%E7%BF%92-%E7%AC%AC5-2%E8%AC%9B-kaggle%E6%A9%9F%E5%99%A8%E5%AD%B8%E7%BF%92%E7%AB%B6%E8%B3%BD%E7%A5%9E%E5%99%A8xgboost%E4%BB%8B%E7%B4%B9-1c8f55cffcc\n",
        "from sklearn.ensemble import RandomForestClassifier\n",
        "rfc = RandomForestClassifier()\n",
        "rfc.fit(X_train, y_train)\n",
        "y_score = rfc.predict(X_test)\n",
        "rfc.score(X_test, y_test)"
      ],
      "execution_count": null,
      "outputs": []
    },
    {
      "cell_type": "code",
      "metadata": {
        "id": "cR1FylgfvnaV"
      },
      "source": [
        "rfc_ans = rfc.predict(test)\n",
        "rfc_ans "
      ],
      "execution_count": null,
      "outputs": []
    },
    {
      "cell_type": "code",
      "metadata": {
        "id": "R6eSVg0svnaV"
      },
      "source": [
        "pred = rfc.predict(X_test)\n",
        "true = y_test\n",
        "# print(\"pred : \",pred)\n",
        "# print(\"true : \",y_test)\n",
        "\n",
        "# print(\"-\"*30)\n",
        "\n",
        "# for ind,value in enumerate(pred):\n",
        "#     if(value != y_test[ind]):\n",
        "#         print(X_test[ind],\" true label:\",y_test[ind],\" pred : \",value)"
      ],
      "execution_count": null,
      "outputs": []
    },
    {
      "cell_type": "code",
      "metadata": {
        "id": "u4a4l_vH9b_1"
      },
      "source": [
        "#Accuracy = TP+TN/TP+FP+FN+TN\n",
        "from sklearn.metrics import confusion_matrix\n",
        "tn, fp, fn, tp = confusion_matrix(true,pred).ravel()\n",
        "(tn, fp, fn, tp)\n",
        "accuracy= (tp+tn)/ (tp+fp+fn+tn)\n",
        "recall= tp/(tp+fn)\n",
        "precision=tp/(tp+fp)\n",
        "f1_score=2*(precision*recall)/(precision+recall)\n",
        "print(accuracy)\n",
        "print(recall)\n",
        "print(precision)\n",
        "print(f1_score)"
      ],
      "execution_count": null,
      "outputs": []
    },
    {
      "cell_type": "code",
      "metadata": {
        "id": "qU82y16FfOq6"
      },
      "source": [
        "import numpy as np\n",
        "import matplotlib.pyplot as plt\n",
        "from sklearn.metrics import roc_curve, roc_auc_score, auc\n",
        "\n",
        "# # 讀取資料\n",
        "# import pandas as pd\n",
        "# df=pd.read_csv('./data.csv')\n",
        "\n",
        "# 在各種『決策門檻』（decision threshold）下，計算 『真陽率』（True Positive Rate；TPR）與『假陽率』（False Positive Rate；FPR）\n",
        "fpr, tpr, threshold = roc_curve(true,pred)\n",
        "print(\"fpr:\",fpr)\n",
        "print(\"tpr:\",tpr)\n",
        "print(\"threshold:\",threshold)\n",
        "\n",
        "auc1 = auc(fpr, tpr)\n",
        "## Plot the result\n",
        "plt.title('RandomForest Receiver Operating Characteristic')\n",
        "plt.plot(fpr, tpr, color = 'orange', label = 'AUC = %0.2f' % auc1)\n",
        "plt.legend(loc = 'lower right')\n",
        "plt.plot([0, 1], [0, 1],'r--')\n",
        "plt.xlim([0, 1])\n",
        "plt.ylim([0, 1])\n",
        "plt.ylabel('True Positive Rate')\n",
        "plt.xlabel('False Positive Rate')\n",
        "print(\"auc:\",auc1 )\n",
        "plt.show()    "
      ],
      "execution_count": null,
      "outputs": []
    },
    {
      "cell_type": "markdown",
      "metadata": {
        "id": "3dyuKeA_v0VQ"
      },
      "source": [
        "<font face = TimeRomans size=3 color =blue>Xgboost</font>"
      ]
    },
    {
      "cell_type": "code",
      "metadata": {
        "id": "qZyEzin5-nN2"
      },
      "source": [
        "# ref: https://zhuanlan.zhihu.com/p/117464631\n",
        "\n",
        "#imported libsimport numpy as np\n",
        "import pandas as pd\n",
        "from xgboost import XGBClassifier\n",
        "import matplotlib.pyplot as plt\n",
        "from scipy import stats\n",
        "import seaborn as sns\n",
        "from sklearn.model_selection import train_test_split\n",
        "from sklearn.preprocessing import StandardScaler\n",
        "from sklearn.pipeline import Pipeline\n",
        "from sklearn.model_selection import RandomizedSearchCV, GridSearchCV\n",
        "import sys\n",
        "\n",
        "# X_train = train.drop('gender',axis=1)\n",
        "# y_train = train['gender']\n",
        "# # test = test.drop('gender',axis=1)\n",
        "# train_X, test_X, train_y, test_y = train_test_split(X_train, y_train, test_size = 0.3, random_state=42)\n",
        "\n",
        "# xgb_pipeline = Pipeline([('scaler', StandardScaler()), ('classifier',XGBClassifier())])\n",
        "# gbm_param_grid = {\n",
        "#     'classifier__max_depth': np.array([5,6,7,8,9,10,11,12]),\n",
        "#     'classifier__learning_rate': np.array([0.01,0.001]),\n",
        "#     'classifier__n_estimators': np.array([100,200,300,400]),\n",
        "#     'classifier__subsample': np.array([1,1.2,1.4]),\n",
        "#     'classifier__lambda': np.array([1]),\n",
        "#     'classifier__gamma': np.array([0])\n",
        "#     #'classifier__colsample_bytree': np.arange(0,1.1,.2)\n",
        "# }\n",
        "\n",
        "# grid_search = GridSearchCV(estimator=xgb_pipeline, param_grid=gbm_param_grid, n_jobs= -1,\n",
        "#                          scoring='f1_weighted', verbose=10)\n",
        "\n",
        "# grid_search.fit(train_X,train_y)\n",
        "# print(grid_search.best_params_)\n",
        "# print(grid_search.score(test_X,test_y))"
      ],
      "execution_count": null,
      "outputs": []
    },
    {
      "cell_type": "code",
      "metadata": {
        "id": "PaHtOIP4ec1U"
      },
      "source": [
        "# !pip3 install xgboost\n",
        "# from xgboost import XGBClassifier\n",
        "# xgbc = XGBClassifier(\n",
        "#     # gamma = 0, \n",
        "#     # lreg_lambda=1, \n",
        "#     # learning_rate=0.01, \n",
        "#     # max_depth=5, \n",
        "#     # n_estimators=100, \n",
        "#     # subsample=1\n",
        "#     )\n",
        "\n",
        "# xgbc.fit(X_train, y_train)\n",
        "# xgbc.score(X_test, y_test)"
      ],
      "execution_count": null,
      "outputs": []
    },
    {
      "cell_type": "code",
      "metadata": {
        "id": "nMVuRyLNwYa5"
      },
      "source": [
        "!pip3 install xgboost\n",
        "from xgboost import XGBClassifier\n",
        "xgbc = XGBClassifier()\n",
        "\n",
        "xgbc.fit(X_train, y_train)\n",
        "xgbc.score(X_test, y_test)"
      ],
      "execution_count": null,
      "outputs": []
    },
    {
      "cell_type": "code",
      "metadata": {
        "id": "Ty5NLSXHyIfb"
      },
      "source": [
        "y_score = xgbc.predict(X_test)"
      ],
      "execution_count": null,
      "outputs": []
    },
    {
      "cell_type": "code",
      "metadata": {
        "id": "ezx3YF0awMch"
      },
      "source": [
        "test_xgbc =test\n",
        "xgbc_ans = xgbc.predict(test_xgbc)\n",
        "xgbc_ans "
      ],
      "execution_count": null,
      "outputs": []
    },
    {
      "cell_type": "code",
      "metadata": {
        "id": "rSYRTDTMwJub"
      },
      "source": [
        "pred = xgbc.predict(X_test)\n",
        "true = y_test"
      ],
      "execution_count": null,
      "outputs": []
    },
    {
      "cell_type": "code",
      "metadata": {
        "id": "aU0uZFudRvX0"
      },
      "source": [
        "from sklearn.metrics import confusion_matrix\n",
        "tn, fp, fn, tp = confusion_matrix(true,pred).ravel()\n",
        "(tn, fp, fn, tp)\n",
        "accuracy= (tp+tn)/ (tp+fp+fn+tn)\n",
        "recall= tp/(tp+fn)\n",
        "precision=tp/(tp+fp)\n",
        "f1_score=2*(precision*recall)/(precision+recall)\n",
        "print(accuracy)\n",
        "print(recall)\n",
        "print(precision)\n",
        "print(f1_score)"
      ],
      "execution_count": null,
      "outputs": []
    },
    {
      "cell_type": "code",
      "metadata": {
        "id": "jxy_UikufKJI"
      },
      "source": [
        "import numpy as np\n",
        "import matplotlib.pyplot as plt\n",
        "from sklearn.metrics import roc_curve, roc_auc_score, auc\n",
        "\n",
        "# # 讀取資料\n",
        "# import pandas as pd\n",
        "# df=pd.read_csv('./data.csv')\n",
        "\n",
        "# 在各種『決策門檻』（decision threshold）下，計算 『真陽率』（True Positive Rate；TPR）與『假陽率』（False Positive Rate；FPR）\n",
        "fpr, tpr, threshold = roc_curve(true,pred)\n",
        "print(\"fpr:\",fpr)\n",
        "print(\"tpr:\",tpr)\n",
        "print(\"threshold:\",threshold)\n",
        "\n",
        "auc1 = auc(fpr, tpr)\n",
        "## Plot the result\n",
        "plt.title('XGBOOST Operating Characteristic')\n",
        "plt.plot(fpr, tpr, color = 'orange', label = 'AUC = %0.2f' % auc1)\n",
        "plt.legend(loc = 'lower right')\n",
        "plt.plot([0, 1], [0, 1],'r--')\n",
        "plt.xlim([0, 1])\n",
        "plt.ylim([0, 1])\n",
        "plt.ylabel('True Positive Rate')\n",
        "plt.xlabel('False Positive Rate')\n",
        "print(\"auc:\",auc1 )\n",
        "plt.show()    "
      ],
      "execution_count": null,
      "outputs": []
    },
    {
      "cell_type": "markdown",
      "metadata": {
        "id": "qBN17FLQfcUf"
      },
      "source": [
        "<font face = TimeRomans size=3 color =blue>SVM</font>"
      ]
    },
    {
      "cell_type": "code",
      "metadata": {
        "id": "z3-CJSTuM0-C"
      },
      "source": [
        "# 使用 SVM 分類器\n",
        "from sklearn.svm import LinearSVC\n",
        "clf = LinearSVC(random_state=0)\n",
        "clf.fit(X_train,y_train)"
      ],
      "execution_count": null,
      "outputs": []
    },
    {
      "cell_type": "code",
      "metadata": {
        "id": "FmcMerKnab0o"
      },
      "source": [
        "predicted_test = clf.predict(test)\n",
        "predicted_test"
      ],
      "execution_count": null,
      "outputs": []
    },
    {
      "cell_type": "code",
      "metadata": {
        "id": "IVbjV5imaj_N"
      },
      "source": [
        "pred = clf.predict(X_test)\n",
        "true = y_test"
      ],
      "execution_count": null,
      "outputs": []
    },
    {
      "cell_type": "code",
      "metadata": {
        "id": "1KnbEAvzaSY1"
      },
      "source": [
        "from sklearn.metrics import confusion_matrix\n",
        "tn, fp, fn, tp = confusion_matrix(true,pred).ravel()\n",
        "(tn, fp, fn, tp)\n",
        "accuracy= (tp+tn)/ (tp+fp+fn+tn)\n",
        "recall= tp/(tp+fn)\n",
        "precision=tp/(tp+fp)\n",
        "f1_score=2*(precision*recall)/(precision+recall)\n",
        "print(accuracy)\n",
        "print(recall)\n",
        "print(precision)\n",
        "print(f1_score)"
      ],
      "execution_count": null,
      "outputs": []
    },
    {
      "cell_type": "code",
      "metadata": {
        "id": "mRriI3tfM0wq"
      },
      "source": [
        ""
      ],
      "execution_count": null,
      "outputs": []
    },
    {
      "cell_type": "code",
      "metadata": {
        "id": "Dg9t2K6QGWOu"
      },
      "source": [
        "import numpy as np\n",
        "import matplotlib.pyplot as plt\n",
        "from sklearn.metrics import roc_curve, roc_auc_score, auc\n",
        "\n",
        "# # 讀取資料\n",
        "# import pandas as pd\n",
        "# df=pd.read_csv('./data.csv')\n",
        "\n",
        "# 在各種『決策門檻』（decision threshold）下，計算 『真陽率』（True Positive Rate；TPR）與『假陽率』（False Positive Rate；FPR）\n",
        "fpr, tpr, threshold = roc_curve(true,pred)\n",
        "print(\"fpr:\",fpr)\n",
        "print(\"tpr:\",tpr)\n",
        "print(\"threshold:\",threshold)\n",
        "\n",
        "auc1 = auc(fpr, tpr)\n",
        "## Plot the result\n",
        "plt.title('SVM Receiver Operating Characteristic')\n",
        "plt.plot(fpr, tpr, color = 'orange', label = 'AUC = %0.2f' % auc1)\n",
        "plt.legend(loc = 'lower right')\n",
        "plt.plot([0, 1], [0, 1],'r--')\n",
        "plt.xlim([0, 1])\n",
        "plt.ylim([0, 1])\n",
        "plt.ylabel('True Positive Rate')\n",
        "plt.xlabel('False Positive Rate')\n",
        "print(\"auc:\",auc1 )\n",
        "plt.show()    "
      ],
      "execution_count": null,
      "outputs": []
    },
    {
      "cell_type": "code",
      "metadata": {
        "id": "15VNYcL-Cb1I"
      },
      "source": [
        ""
      ],
      "execution_count": null,
      "outputs": []
    },
    {
      "cell_type": "markdown",
      "metadata": {
        "id": "ItH2J81bfnO-"
      },
      "source": [
        "<font face = TimeRomans size=3 color =blue>DecisionTree</font>"
      ]
    },
    {
      "cell_type": "code",
      "metadata": {
        "id": "eDxQcKZScPka"
      },
      "source": [
        "# DecisionTree\n",
        "from sklearn import tree\n",
        "dtree = tree.DecisionTreeClassifier()\n",
        "dtree_train = dtree.fit(X_train,y_train)\n",
        "y_score = dtree_train.predict(X_test)\n"
      ],
      "execution_count": null,
      "outputs": []
    },
    {
      "cell_type": "code",
      "metadata": {
        "id": "475IJ_FscWbW"
      },
      "source": [
        "pred = dtree_train.predict(X_test)\n",
        "true = y_test"
      ],
      "execution_count": null,
      "outputs": []
    },
    {
      "cell_type": "code",
      "metadata": {
        "colab": {
          "base_uri": "https://localhost:8080/"
        },
        "id": "JLql9NNFcZuf",
        "outputId": "a9fe13b6-d56b-4cc2-adb4-3597be9454f0"
      },
      "source": [
        "from sklearn.metrics import confusion_matrix\n",
        "tn, fp, fn, tp = confusion_matrix(true,pred).ravel()\n",
        "(tn, fp, fn, tp)\n",
        "accuracy= (tp+tn)/ (tp+fp+fn+tn)\n",
        "recall= tp/(tp+fn)\n",
        "precision=tp/(tp+fp)\n",
        "f1_score=2*(precision*recall)/(precision+recall)\n",
        "print(accuracy)\n",
        "print(recall)\n",
        "print(precision)\n",
        "print(f1_score)"
      ],
      "execution_count": null,
      "outputs": [
        {
          "output_type": "stream",
          "text": [
            "0.7\n",
            "0.7592592592592593\n",
            "0.7068965517241379\n",
            "0.7321428571428572\n"
          ],
          "name": "stdout"
        }
      ]
    },
    {
      "cell_type": "code",
      "metadata": {
        "id": "XHbwriusch7p",
        "colab": {
          "base_uri": "https://localhost:8080/",
          "height": 363
        },
        "outputId": "88ac12d0-b9ae-4cca-b319-a899683bfe1b"
      },
      "source": [
        "import numpy as np\n",
        "import matplotlib.pyplot as plt\n",
        "from sklearn.metrics import roc_curve, roc_auc_score, auc\n",
        "\n",
        "# # 讀取資料\n",
        "# import pandas as pd\n",
        "# df=pd.read_csv('./data.csv')\n",
        "\n",
        "# 在各種『決策門檻』（decision threshold）下，計算 『真陽率』（True Positive Rate；TPR）與『假陽率』（False Positive Rate；FPR）\n",
        "fpr, tpr, threshold = roc_curve(true,pred)\n",
        "print(\"fpr:\",fpr)\n",
        "print(\"tpr:\",tpr)\n",
        "print(\"threshold:\",threshold)\n",
        "\n",
        "auc1 = auc(fpr, tpr)\n",
        "## Plot the result\n",
        "plt.title('DecisionTree Receiver Operating Characteristic')\n",
        "plt.plot(fpr, tpr, color = 'orange', label = 'AUC = %0.2f' % auc1)\n",
        "plt.legend(loc = 'lower right')\n",
        "plt.plot([0, 1], [0, 1],'r--')\n",
        "plt.xlim([0, 1])\n",
        "plt.ylim([0, 1])\n",
        "plt.ylabel('True Positive Rate')\n",
        "plt.xlabel('False Positive Rate')\n",
        "print(\"auc:\",auc1 )\n",
        "plt.show()    "
      ],
      "execution_count": null,
      "outputs": [
        {
          "output_type": "stream",
          "text": [
            "fpr: [0.         0.36956522 1.        ]\n",
            "tpr: [0.         0.75925926 1.        ]\n",
            "threshold: [2 1 0]\n",
            "auc: 0.6948470209339774\n"
          ],
          "name": "stdout"
        },
        {
          "output_type": "display_data",
          "data": {
            "image/png": "[encoded data removed]",
            "text/plain": [
              "<Figure size 432x288 with 1 Axes>"
            ]
          },
          "metadata": {
            "tags": [],
            "needs_background": "light"
          }
        }
      ]
    },
    {
      "cell_type": "code",
      "metadata": {
        "id": "P8zsYj1Clo41"
      },
      "source": [
        ""
      ],
      "execution_count": null,
      "outputs": []
    }
  ]
}